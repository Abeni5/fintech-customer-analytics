{
 "cells": [
  {
   "cell_type": "markdown",
   "id": "7aa1b6b6",
   "metadata": {},
   "source": [
    "# Task 1: Data Collection and Preprocessing\n",
    "This notebook contains the script to scrape and preprocess reviews from the Google Play Store for CBE, BOA, and Dashen Bank."
   ]
  },
  {
   "cell_type": "code",
   "execution_count": 8,
   "id": "892e9325",
   "metadata": {},
   "outputs": [
    {
     "name": "stdout",
     "output_type": "stream",
     "text": [
      "c:\\Users\\hp\\OneDrive\\Desktop\\Customer Experience Analytics for Fintech Apps\\fintech-customer-analytics\\notebook\n",
      "Scraped 400 reviews for Commercial Bank of Ethiopia\n",
      "DataFrame for Commercial Bank of Ethiopia: (400, 6)\n",
      "Scraped 400 reviews for Bank of Abyssinia\n",
      "DataFrame for Bank of Abyssinia: (400, 6)\n",
      "Scraped 400 reviews for Dashen Bank\n",
      "DataFrame for Dashen Bank: (400, 6)\n",
      "Combined DataFrame shape: (1200, 6)\n",
      "Columns: ['review_id', 'review', 'rating', 'date', 'bank', 'source']\n",
      "Total reviews: 1200\n",
      "Missing data: 0.00%\n"
     ]
    }
   ],
   "source": [
    "import pandas as pd\n",
    "from google_play_scraper import reviews, Sort\n",
    "from datetime import datetime\n",
    "import uuid\n",
    "import os  \n",
    "print(os.getcwd())\n",
    "\n",
    "apps = {\n",
    "   'Commercial Bank of Ethiopia': 'com.combanketh.mobilebanking',\n",
    "    'Bank of Abyssinia': 'com.boa.boaMobileBanking',\n",
    "    'Dashen Bank': 'com.dashen.dashensuperapp'\n",
    "}\n",
    "\n",
    "def scrape_reviews(app_id, app_name, count=400):\n",
    "    try:\n",
    "        result, _ = reviews(app_id, lang='en', country='et', sort=Sort.NEWEST, count=count)\n",
    "        print(f\"Scraped {len(result)} reviews for {app_name}\")\n",
    "        reviews_list = []\n",
    "        for review in result:\n",
    "            reviews_list.append({\n",
    "                'review_id': review['reviewId'],\n",
    "                'review': review['content'],\n",
    "                'rating': review['score'],\n",
    "                'date': review['at'],\n",
    "                'bank': app_name,\n",
    "                'source': 'Google Play'\n",
    "            })\n",
    "        return pd.DataFrame(reviews_list)\n",
    "    except Exception as e:\n",
    "        print(f\"Error scraping {app_name}: {e}\")\n",
    "        return pd.DataFrame()\n",
    "\n",
    "all_reviews = []\n",
    "for app_name, app_id in apps.items():\n",
    "    df = scrape_reviews(app_id, app_name)\n",
    "    print(f\"DataFrame for {app_name}: {df.shape}\")\n",
    "    all_reviews.append(df)\n",
    "\n",
    "df_reviews = pd.concat(all_reviews, ignore_index=True)\n",
    "print(f\"Combined DataFrame shape: {df_reviews.shape}\")\n",
    "print(f\"Columns: {df_reviews.columns.tolist()}\")\n",
    "\n",
    "# Create data directory if it doesn't exist\n",
    "os.makedirs('data', exist_ok=True)\n",
    "\n",
    "if df_reviews.empty:\n",
    "    print(\"No reviews scraped. Consider using fallback dataset.\")\n",
    "else:\n",
    "    df_reviews = df_reviews.drop_duplicates(subset=['review_id'])\n",
    "    df_reviews['review'] = df_reviews['review'].fillna('')\n",
    "    df_reviews['rating'] = df_reviews['rating'].fillna(df_reviews['rating'].median())\n",
    "    df_reviews = df_reviews.dropna(subset=['date'])\n",
    "    df_reviews['date'] = pd.to_datetime(df_reviews['date']).dt.strftime('%Y-%m-%d')\n",
    "    df_reviews.to_csv('data/bank_reviews_cleaned.csv', index=False)\n",
    "    print(f\"Total reviews: {len(df_reviews)}\")\n",
    "    print(f\"Missing data: {df_reviews.isnull().mean().mean() * 100:.2f}%\")"
   ]
  },
  {
   "cell_type": "code",
   "execution_count": 11,
   "id": "a1474a9c",
   "metadata": {},
   "outputs": [
    {
     "name": "stdout",
     "output_type": "stream",
     "text": [
      "c:\\Users\\hp\\OneDrive\\Desktop\\Customer Experience Analytics for Fintech Apps\\fintech-customer-analytics\\notebook\n"
     ]
    }
   ],
   "source": [
    "import os\n",
    "print(os.getcwd())\n"
   ]
  },
  {
   "cell_type": "markdown",
   "id": "a3223499",
   "metadata": {},
   "source": [
    "# Task 2: Sentiment and Thematic Analysis\n",
    "This section will include sentiment analysis using NLTK's VADER and thematic analysis of the reviews."
   ]
  },
  {
   "cell_type": "code",
   "execution_count": 24,
   "id": "2fc2a22a",
   "metadata": {},
   "outputs": [
    {
     "name": "stderr",
     "output_type": "stream",
     "text": [
      "[nltk_data] Downloading package vader_lexicon to\n",
      "[nltk_data]     C:\\Users\\hp\\AppData\\Roaming\\nltk_data...\n",
      "[nltk_data]   Package vader_lexicon is already up-to-date!\n"
     ]
    },
    {
     "name": "stdout",
     "output_type": "stream",
     "text": [
      "Loaded DataFrame shape: (1200, 6)\n",
      "Unique banks: ['Commercial Bank of Ethiopia' 'Bank of Abyssinia' 'Dashen Bank']\n",
      "Sample banks (first 50): ['Commercial Bank of Ethiopia', 'Commercial Bank of Ethiopia', 'Commercial Bank of Ethiopia', 'Commercial Bank of Ethiopia', 'Commercial Bank of Ethiopia', 'Commercial Bank of Ethiopia', 'Commercial Bank of Ethiopia', 'Commercial Bank of Ethiopia', 'Commercial Bank of Ethiopia', 'Commercial Bank of Ethiopia', 'Commercial Bank of Ethiopia', 'Commercial Bank of Ethiopia', 'Commercial Bank of Ethiopia', 'Commercial Bank of Ethiopia', 'Commercial Bank of Ethiopia', 'Commercial Bank of Ethiopia', 'Commercial Bank of Ethiopia', 'Commercial Bank of Ethiopia', 'Commercial Bank of Ethiopia', 'Commercial Bank of Ethiopia', 'Commercial Bank of Ethiopia', 'Commercial Bank of Ethiopia', 'Commercial Bank of Ethiopia', 'Commercial Bank of Ethiopia', 'Commercial Bank of Ethiopia', 'Commercial Bank of Ethiopia', 'Commercial Bank of Ethiopia', 'Commercial Bank of Ethiopia', 'Commercial Bank of Ethiopia', 'Commercial Bank of Ethiopia', 'Commercial Bank of Ethiopia', 'Commercial Bank of Ethiopia', 'Commercial Bank of Ethiopia', 'Commercial Bank of Ethiopia', 'Commercial Bank of Ethiopia', 'Commercial Bank of Ethiopia', 'Commercial Bank of Ethiopia', 'Commercial Bank of Ethiopia', 'Commercial Bank of Ethiopia', 'Commercial Bank of Ethiopia', 'Commercial Bank of Ethiopia', 'Commercial Bank of Ethiopia', 'Commercial Bank of Ethiopia', 'Commercial Bank of Ethiopia', 'Commercial Bank of Ethiopia', 'Commercial Bank of Ethiopia', 'Commercial Bank of Ethiopia', 'Commercial Bank of Ethiopia', 'Commercial Bank of Ethiopia', 'Commercial Bank of Ethiopia']\n",
      "Sample banks (middle 50): ['Bank of Abyssinia', 'Bank of Abyssinia', 'Bank of Abyssinia', 'Bank of Abyssinia', 'Bank of Abyssinia', 'Bank of Abyssinia', 'Bank of Abyssinia', 'Bank of Abyssinia', 'Bank of Abyssinia', 'Bank of Abyssinia', 'Bank of Abyssinia', 'Bank of Abyssinia', 'Bank of Abyssinia', 'Bank of Abyssinia', 'Bank of Abyssinia', 'Bank of Abyssinia', 'Bank of Abyssinia', 'Bank of Abyssinia', 'Bank of Abyssinia', 'Bank of Abyssinia', 'Bank of Abyssinia', 'Bank of Abyssinia', 'Bank of Abyssinia', 'Bank of Abyssinia', 'Bank of Abyssinia', 'Bank of Abyssinia', 'Bank of Abyssinia', 'Bank of Abyssinia', 'Bank of Abyssinia', 'Bank of Abyssinia', 'Bank of Abyssinia', 'Bank of Abyssinia', 'Bank of Abyssinia', 'Bank of Abyssinia', 'Bank of Abyssinia', 'Bank of Abyssinia', 'Bank of Abyssinia', 'Bank of Abyssinia', 'Bank of Abyssinia', 'Bank of Abyssinia', 'Bank of Abyssinia', 'Bank of Abyssinia', 'Bank of Abyssinia', 'Bank of Abyssinia', 'Bank of Abyssinia', 'Bank of Abyssinia', 'Bank of Abyssinia', 'Bank of Abyssinia', 'Bank of Abyssinia', 'Bank of Abyssinia']\n",
      "Sample banks (last 50): ['Dashen Bank', 'Dashen Bank', 'Dashen Bank', 'Dashen Bank', 'Dashen Bank', 'Dashen Bank', 'Dashen Bank', 'Dashen Bank', 'Dashen Bank', 'Dashen Bank', 'Dashen Bank', 'Dashen Bank', 'Dashen Bank', 'Dashen Bank', 'Dashen Bank', 'Dashen Bank', 'Dashen Bank', 'Dashen Bank', 'Dashen Bank', 'Dashen Bank', 'Dashen Bank', 'Dashen Bank', 'Dashen Bank', 'Dashen Bank', 'Dashen Bank', 'Dashen Bank', 'Dashen Bank', 'Dashen Bank', 'Dashen Bank', 'Dashen Bank', 'Dashen Bank', 'Dashen Bank', 'Dashen Bank', 'Dashen Bank', 'Dashen Bank', 'Dashen Bank', 'Dashen Bank', 'Dashen Bank', 'Dashen Bank', 'Dashen Bank', 'Dashen Bank', 'Dashen Bank', 'Dashen Bank', 'Dashen Bank', 'Dashen Bank', 'Dashen Bank', 'Dashen Bank', 'Dashen Bank', 'Dashen Bank', 'Dashen Bank']\n",
      "Before save - Sample banks: ['Commercial Bank of Ethiopia', 'Commercial Bank of Ethiopia', 'Commercial Bank of Ethiopia', 'Commercial Bank of Ethiopia', 'Commercial Bank of Ethiopia', 'Commercial Bank of Ethiopia', 'Commercial Bank of Ethiopia', 'Commercial Bank of Ethiopia', 'Commercial Bank of Ethiopia', 'Commercial Bank of Ethiopia']\n",
      "Saved to new file, verifying...\n",
      "Verified DataFrame shape: (1200, 8)\n",
      "Verified Unique banks: ['Commercial Bank of Ethiopia' 'Bank of Abyssinia' 'Dashen Bank']\n",
      "Verified Sample banks (first 50): ['Commercial Bank of Ethiopia', 'Commercial Bank of Ethiopia', 'Commercial Bank of Ethiopia', 'Commercial Bank of Ethiopia', 'Commercial Bank of Ethiopia', 'Commercial Bank of Ethiopia', 'Commercial Bank of Ethiopia', 'Commercial Bank of Ethiopia', 'Commercial Bank of Ethiopia', 'Commercial Bank of Ethiopia', 'Commercial Bank of Ethiopia', 'Commercial Bank of Ethiopia', 'Commercial Bank of Ethiopia', 'Commercial Bank of Ethiopia', 'Commercial Bank of Ethiopia', 'Commercial Bank of Ethiopia', 'Commercial Bank of Ethiopia', 'Commercial Bank of Ethiopia', 'Commercial Bank of Ethiopia', 'Commercial Bank of Ethiopia', 'Commercial Bank of Ethiopia', 'Commercial Bank of Ethiopia', 'Commercial Bank of Ethiopia', 'Commercial Bank of Ethiopia', 'Commercial Bank of Ethiopia', 'Commercial Bank of Ethiopia', 'Commercial Bank of Ethiopia', 'Commercial Bank of Ethiopia', 'Commercial Bank of Ethiopia', 'Commercial Bank of Ethiopia', 'Commercial Bank of Ethiopia', 'Commercial Bank of Ethiopia', 'Commercial Bank of Ethiopia', 'Commercial Bank of Ethiopia', 'Commercial Bank of Ethiopia', 'Commercial Bank of Ethiopia', 'Commercial Bank of Ethiopia', 'Commercial Bank of Ethiopia', 'Commercial Bank of Ethiopia', 'Commercial Bank of Ethiopia', 'Commercial Bank of Ethiopia', 'Commercial Bank of Ethiopia', 'Commercial Bank of Ethiopia', 'Commercial Bank of Ethiopia', 'Commercial Bank of Ethiopia', 'Commercial Bank of Ethiopia', 'Commercial Bank of Ethiopia', 'Commercial Bank of Ethiopia', 'Commercial Bank of Ethiopia', 'Commercial Bank of Ethiopia']\n",
      "Verified Sample banks (last 50): ['Dashen Bank', 'Dashen Bank', 'Dashen Bank', 'Dashen Bank', 'Dashen Bank', 'Dashen Bank', 'Dashen Bank', 'Dashen Bank', 'Dashen Bank', 'Dashen Bank', 'Dashen Bank', 'Dashen Bank', 'Dashen Bank', 'Dashen Bank', 'Dashen Bank', 'Dashen Bank', 'Dashen Bank', 'Dashen Bank', 'Dashen Bank', 'Dashen Bank', 'Dashen Bank', 'Dashen Bank', 'Dashen Bank', 'Dashen Bank', 'Dashen Bank', 'Dashen Bank', 'Dashen Bank', 'Dashen Bank', 'Dashen Bank', 'Dashen Bank', 'Dashen Bank', 'Dashen Bank', 'Dashen Bank', 'Dashen Bank', 'Dashen Bank', 'Dashen Bank', 'Dashen Bank', 'Dashen Bank', 'Dashen Bank', 'Dashen Bank', 'Dashen Bank', 'Dashen Bank', 'Dashen Bank', 'Dashen Bank', 'Dashen Bank', 'Dashen Bank', 'Dashen Bank', 'Dashen Bank', 'Dashen Bank', 'Dashen Bank']\n",
      "Sentiment Analysis Results:\n",
      "sentiment_label\n",
      "Positive    751\n",
      "Neutral     311\n",
      "Negative    138\n",
      "Name: count, dtype: int64\n",
      "\n",
      "Average Sentiment by Bank:\n",
      "bank\n",
      "Bank of Abyssinia              0.116311\n",
      "Commercial Bank of Ethiopia    0.319393\n",
      "Dashen Bank                    0.446810\n",
      "Name: sentiment, dtype: float64\n"
     ]
    }
   ],
   "source": [
    "# Sentiment Analysis\n",
    "import pandas as pd\n",
    "from nltk.sentiment.vader import SentimentIntensityAnalyzer\n",
    "import nltk\n",
    "nltk.download('vader_lexicon')\n",
    "sia = SentimentIntensityAnalyzer()\n",
    "df = pd.read_csv('C:\\\\Users\\\\hp\\\\OneDrive\\\\Desktop\\\\Customer Experience Analytics for Fintech Apps\\\\fintech-customer-analytics\\\\notebook\\\\data\\\\bank_reviews_cleaned.csv')\n",
    "print(\"Loaded DataFrame shape:\", df.shape)\n",
    "print(\"Unique banks:\", df['bank'].unique())\n",
    "print(\"Sample banks (first 50):\", df['bank'].head(50).tolist())\n",
    "print(\"Sample banks (middle 50):\", df['bank'].iloc[575:625].tolist())  # Approx middle\n",
    "print(\"Sample banks (last 50):\", df['bank'].tail(50).tolist())\n",
    "df['sentiment'] = df['review'].apply(lambda x: sia.polarity_scores(str(x))['compound'])\n",
    "df['sentiment_label'] = df['sentiment'].apply(lambda x: 'Positive' if x > 0.05 else 'Negative' if x < -0.05 else 'Neutral')\n",
    "print(\"Before save - Sample banks:\", df['bank'].head(10).tolist())\n",
    "df.to_csv('C:\\\\Users\\\\hp\\\\OneDrive\\\\Desktop\\\\Customer Experience Analytics for Fintech Apps\\\\fintech-customer-analytics\\\\notebook\\\\data\\\\bank_reviews_with_sentiment_new.csv', index=False, mode='w')\n",
    "print(\"Saved to new file, verifying...\")\n",
    "saved_df = pd.read_csv('C:\\\\Users\\\\hp\\\\OneDrive\\\\Desktop\\\\Customer Experience Analytics for Fintech Apps\\\\fintech-customer-analytics\\\\notebook\\\\data\\\\bank_reviews_with_sentiment_new.csv')\n",
    "print(\"Verified DataFrame shape:\", saved_df.shape)\n",
    "print(\"Verified Unique banks:\", saved_df['bank'].unique())\n",
    "print(\"Verified Sample banks (first 50):\", saved_df['bank'].head(50).tolist())\n",
    "print(\"Verified Sample banks (last 50):\", saved_df['bank'].tail(50).tolist())\n",
    "print(\"Sentiment Analysis Results:\")\n",
    "print(df['sentiment_label'].value_counts())\n",
    "print(\"\\nAverage Sentiment by Bank:\")\n",
    "print(df.groupby('bank')['sentiment'].mean())"
   ]
  },
  {
   "cell_type": "code",
   "execution_count": 25,
   "id": "6c3103ca",
   "metadata": {},
   "outputs": [],
   "source": [
    "df.to_csv('C:\\\\Users\\\\hp\\\\OneDrive\\\\Desktop\\\\Customer Experience Analytics for Fintech Apps\\\\fintech-customer-analytics\\\\notebook\\\\data\\\\temp_sentiment.csv', index=False, mode='w')\n"
   ]
  },
  {
   "cell_type": "code",
   "execution_count": 26,
   "id": "14a7446e",
   "metadata": {},
   "outputs": [
    {
     "name": "stderr",
     "output_type": "stream",
     "text": [
      "[nltk_data] Downloading package stopwords to\n",
      "[nltk_data]     C:\\Users\\hp\\AppData\\Roaming\\nltk_data...\n",
      "[nltk_data]   Package stopwords is already up-to-date!\n"
     ]
    },
    {
     "ename": "FileNotFoundError",
     "evalue": "[Errno 2] No such file or directory: 'C:\\\\Users\\\\hp\\\\OneDrive\\\\Desktop\\\\Customer Experience Analytics for Fintech Apps\\\\fintech-customer-analytics\\\\notebook\\\\data\\\\bank_reviews_with_sentiment.csv'",
     "output_type": "error",
     "traceback": [
      "\u001b[31m---------------------------------------------------------------------------\u001b[39m",
      "\u001b[31mFileNotFoundError\u001b[39m                         Traceback (most recent call last)",
      "\u001b[36mCell\u001b[39m\u001b[36m \u001b[39m\u001b[32mIn[26]\u001b[39m\u001b[32m, line 8\u001b[39m\n\u001b[32m      5\u001b[39m nltk.download(\u001b[33m'\u001b[39m\u001b[33mstopwords\u001b[39m\u001b[33m'\u001b[39m)\n\u001b[32m      6\u001b[39m \u001b[38;5;28;01mfrom\u001b[39;00m\u001b[38;5;250m \u001b[39m\u001b[34;01mnltk\u001b[39;00m\u001b[34;01m.\u001b[39;00m\u001b[34;01mcorpus\u001b[39;00m\u001b[38;5;250m \u001b[39m\u001b[38;5;28;01mimport\u001b[39;00m stopwords\n\u001b[32m----> \u001b[39m\u001b[32m8\u001b[39m df = \u001b[43mpd\u001b[49m\u001b[43m.\u001b[49m\u001b[43mread_csv\u001b[49m\u001b[43m(\u001b[49m\u001b[33;43m'\u001b[39;49m\u001b[33;43mC:\u001b[39;49m\u001b[38;5;130;43;01m\\\\\u001b[39;49;00m\u001b[33;43mUsers\u001b[39;49m\u001b[38;5;130;43;01m\\\\\u001b[39;49;00m\u001b[33;43mhp\u001b[39;49m\u001b[38;5;130;43;01m\\\\\u001b[39;49;00m\u001b[33;43mOneDrive\u001b[39;49m\u001b[38;5;130;43;01m\\\\\u001b[39;49;00m\u001b[33;43mDesktop\u001b[39;49m\u001b[38;5;130;43;01m\\\\\u001b[39;49;00m\u001b[33;43mCustomer Experience Analytics for Fintech Apps\u001b[39;49m\u001b[38;5;130;43;01m\\\\\u001b[39;49;00m\u001b[33;43mfintech-customer-analytics\u001b[39;49m\u001b[38;5;130;43;01m\\\\\u001b[39;49;00m\u001b[33;43mnotebook\u001b[39;49m\u001b[38;5;130;43;01m\\\\\u001b[39;49;00m\u001b[33;43mdata\u001b[39;49m\u001b[38;5;130;43;01m\\\\\u001b[39;49;00m\u001b[33;43mbank_reviews_with_sentiment.csv\u001b[39;49m\u001b[33;43m'\u001b[39;49m\u001b[43m)\u001b[49m\n\u001b[32m      9\u001b[39m stop_words = \u001b[38;5;28mset\u001b[39m(stopwords.words(\u001b[33m'\u001b[39m\u001b[33menglish\u001b[39m\u001b[33m'\u001b[39m))\n\u001b[32m     10\u001b[39m words = \u001b[33m'\u001b[39m\u001b[33m \u001b[39m\u001b[33m'\u001b[39m.join(df[\u001b[33m'\u001b[39m\u001b[33mreview\u001b[39m\u001b[33m'\u001b[39m]).lower()\n",
      "\u001b[36mFile \u001b[39m\u001b[32mc:\\Users\\hp\\AppData\\Local\\Programs\\Python\\Python311\\Lib\\site-packages\\pandas\\io\\parsers\\readers.py:1026\u001b[39m, in \u001b[36mread_csv\u001b[39m\u001b[34m(filepath_or_buffer, sep, delimiter, header, names, index_col, usecols, dtype, engine, converters, true_values, false_values, skipinitialspace, skiprows, skipfooter, nrows, na_values, keep_default_na, na_filter, verbose, skip_blank_lines, parse_dates, infer_datetime_format, keep_date_col, date_parser, date_format, dayfirst, cache_dates, iterator, chunksize, compression, thousands, decimal, lineterminator, quotechar, quoting, doublequote, escapechar, comment, encoding, encoding_errors, dialect, on_bad_lines, delim_whitespace, low_memory, memory_map, float_precision, storage_options, dtype_backend)\u001b[39m\n\u001b[32m   1013\u001b[39m kwds_defaults = _refine_defaults_read(\n\u001b[32m   1014\u001b[39m     dialect,\n\u001b[32m   1015\u001b[39m     delimiter,\n\u001b[32m   (...)\u001b[39m\u001b[32m   1022\u001b[39m     dtype_backend=dtype_backend,\n\u001b[32m   1023\u001b[39m )\n\u001b[32m   1024\u001b[39m kwds.update(kwds_defaults)\n\u001b[32m-> \u001b[39m\u001b[32m1026\u001b[39m \u001b[38;5;28;01mreturn\u001b[39;00m \u001b[43m_read\u001b[49m\u001b[43m(\u001b[49m\u001b[43mfilepath_or_buffer\u001b[49m\u001b[43m,\u001b[49m\u001b[43m \u001b[49m\u001b[43mkwds\u001b[49m\u001b[43m)\u001b[49m\n",
      "\u001b[36mFile \u001b[39m\u001b[32mc:\\Users\\hp\\AppData\\Local\\Programs\\Python\\Python311\\Lib\\site-packages\\pandas\\io\\parsers\\readers.py:620\u001b[39m, in \u001b[36m_read\u001b[39m\u001b[34m(filepath_or_buffer, kwds)\u001b[39m\n\u001b[32m    617\u001b[39m _validate_names(kwds.get(\u001b[33m\"\u001b[39m\u001b[33mnames\u001b[39m\u001b[33m\"\u001b[39m, \u001b[38;5;28;01mNone\u001b[39;00m))\n\u001b[32m    619\u001b[39m \u001b[38;5;66;03m# Create the parser.\u001b[39;00m\n\u001b[32m--> \u001b[39m\u001b[32m620\u001b[39m parser = \u001b[43mTextFileReader\u001b[49m\u001b[43m(\u001b[49m\u001b[43mfilepath_or_buffer\u001b[49m\u001b[43m,\u001b[49m\u001b[43m \u001b[49m\u001b[43m*\u001b[49m\u001b[43m*\u001b[49m\u001b[43mkwds\u001b[49m\u001b[43m)\u001b[49m\n\u001b[32m    622\u001b[39m \u001b[38;5;28;01mif\u001b[39;00m chunksize \u001b[38;5;129;01mor\u001b[39;00m iterator:\n\u001b[32m    623\u001b[39m     \u001b[38;5;28;01mreturn\u001b[39;00m parser\n",
      "\u001b[36mFile \u001b[39m\u001b[32mc:\\Users\\hp\\AppData\\Local\\Programs\\Python\\Python311\\Lib\\site-packages\\pandas\\io\\parsers\\readers.py:1620\u001b[39m, in \u001b[36mTextFileReader.__init__\u001b[39m\u001b[34m(self, f, engine, **kwds)\u001b[39m\n\u001b[32m   1617\u001b[39m     \u001b[38;5;28mself\u001b[39m.options[\u001b[33m\"\u001b[39m\u001b[33mhas_index_names\u001b[39m\u001b[33m\"\u001b[39m] = kwds[\u001b[33m\"\u001b[39m\u001b[33mhas_index_names\u001b[39m\u001b[33m\"\u001b[39m]\n\u001b[32m   1619\u001b[39m \u001b[38;5;28mself\u001b[39m.handles: IOHandles | \u001b[38;5;28;01mNone\u001b[39;00m = \u001b[38;5;28;01mNone\u001b[39;00m\n\u001b[32m-> \u001b[39m\u001b[32m1620\u001b[39m \u001b[38;5;28mself\u001b[39m._engine = \u001b[38;5;28;43mself\u001b[39;49m\u001b[43m.\u001b[49m\u001b[43m_make_engine\u001b[49m\u001b[43m(\u001b[49m\u001b[43mf\u001b[49m\u001b[43m,\u001b[49m\u001b[43m \u001b[49m\u001b[38;5;28;43mself\u001b[39;49m\u001b[43m.\u001b[49m\u001b[43mengine\u001b[49m\u001b[43m)\u001b[49m\n",
      "\u001b[36mFile \u001b[39m\u001b[32mc:\\Users\\hp\\AppData\\Local\\Programs\\Python\\Python311\\Lib\\site-packages\\pandas\\io\\parsers\\readers.py:1880\u001b[39m, in \u001b[36mTextFileReader._make_engine\u001b[39m\u001b[34m(self, f, engine)\u001b[39m\n\u001b[32m   1878\u001b[39m     \u001b[38;5;28;01mif\u001b[39;00m \u001b[33m\"\u001b[39m\u001b[33mb\u001b[39m\u001b[33m\"\u001b[39m \u001b[38;5;129;01mnot\u001b[39;00m \u001b[38;5;129;01min\u001b[39;00m mode:\n\u001b[32m   1879\u001b[39m         mode += \u001b[33m\"\u001b[39m\u001b[33mb\u001b[39m\u001b[33m\"\u001b[39m\n\u001b[32m-> \u001b[39m\u001b[32m1880\u001b[39m \u001b[38;5;28mself\u001b[39m.handles = \u001b[43mget_handle\u001b[49m\u001b[43m(\u001b[49m\n\u001b[32m   1881\u001b[39m \u001b[43m    \u001b[49m\u001b[43mf\u001b[49m\u001b[43m,\u001b[49m\n\u001b[32m   1882\u001b[39m \u001b[43m    \u001b[49m\u001b[43mmode\u001b[49m\u001b[43m,\u001b[49m\n\u001b[32m   1883\u001b[39m \u001b[43m    \u001b[49m\u001b[43mencoding\u001b[49m\u001b[43m=\u001b[49m\u001b[38;5;28;43mself\u001b[39;49m\u001b[43m.\u001b[49m\u001b[43moptions\u001b[49m\u001b[43m.\u001b[49m\u001b[43mget\u001b[49m\u001b[43m(\u001b[49m\u001b[33;43m\"\u001b[39;49m\u001b[33;43mencoding\u001b[39;49m\u001b[33;43m\"\u001b[39;49m\u001b[43m,\u001b[49m\u001b[43m \u001b[49m\u001b[38;5;28;43;01mNone\u001b[39;49;00m\u001b[43m)\u001b[49m\u001b[43m,\u001b[49m\n\u001b[32m   1884\u001b[39m \u001b[43m    \u001b[49m\u001b[43mcompression\u001b[49m\u001b[43m=\u001b[49m\u001b[38;5;28;43mself\u001b[39;49m\u001b[43m.\u001b[49m\u001b[43moptions\u001b[49m\u001b[43m.\u001b[49m\u001b[43mget\u001b[49m\u001b[43m(\u001b[49m\u001b[33;43m\"\u001b[39;49m\u001b[33;43mcompression\u001b[39;49m\u001b[33;43m\"\u001b[39;49m\u001b[43m,\u001b[49m\u001b[43m \u001b[49m\u001b[38;5;28;43;01mNone\u001b[39;49;00m\u001b[43m)\u001b[49m\u001b[43m,\u001b[49m\n\u001b[32m   1885\u001b[39m \u001b[43m    \u001b[49m\u001b[43mmemory_map\u001b[49m\u001b[43m=\u001b[49m\u001b[38;5;28;43mself\u001b[39;49m\u001b[43m.\u001b[49m\u001b[43moptions\u001b[49m\u001b[43m.\u001b[49m\u001b[43mget\u001b[49m\u001b[43m(\u001b[49m\u001b[33;43m\"\u001b[39;49m\u001b[33;43mmemory_map\u001b[39;49m\u001b[33;43m\"\u001b[39;49m\u001b[43m,\u001b[49m\u001b[43m \u001b[49m\u001b[38;5;28;43;01mFalse\u001b[39;49;00m\u001b[43m)\u001b[49m\u001b[43m,\u001b[49m\n\u001b[32m   1886\u001b[39m \u001b[43m    \u001b[49m\u001b[43mis_text\u001b[49m\u001b[43m=\u001b[49m\u001b[43mis_text\u001b[49m\u001b[43m,\u001b[49m\n\u001b[32m   1887\u001b[39m \u001b[43m    \u001b[49m\u001b[43merrors\u001b[49m\u001b[43m=\u001b[49m\u001b[38;5;28;43mself\u001b[39;49m\u001b[43m.\u001b[49m\u001b[43moptions\u001b[49m\u001b[43m.\u001b[49m\u001b[43mget\u001b[49m\u001b[43m(\u001b[49m\u001b[33;43m\"\u001b[39;49m\u001b[33;43mencoding_errors\u001b[39;49m\u001b[33;43m\"\u001b[39;49m\u001b[43m,\u001b[49m\u001b[43m \u001b[49m\u001b[33;43m\"\u001b[39;49m\u001b[33;43mstrict\u001b[39;49m\u001b[33;43m\"\u001b[39;49m\u001b[43m)\u001b[49m\u001b[43m,\u001b[49m\n\u001b[32m   1888\u001b[39m \u001b[43m    \u001b[49m\u001b[43mstorage_options\u001b[49m\u001b[43m=\u001b[49m\u001b[38;5;28;43mself\u001b[39;49m\u001b[43m.\u001b[49m\u001b[43moptions\u001b[49m\u001b[43m.\u001b[49m\u001b[43mget\u001b[49m\u001b[43m(\u001b[49m\u001b[33;43m\"\u001b[39;49m\u001b[33;43mstorage_options\u001b[39;49m\u001b[33;43m\"\u001b[39;49m\u001b[43m,\u001b[49m\u001b[43m \u001b[49m\u001b[38;5;28;43;01mNone\u001b[39;49;00m\u001b[43m)\u001b[49m\u001b[43m,\u001b[49m\n\u001b[32m   1889\u001b[39m \u001b[43m\u001b[49m\u001b[43m)\u001b[49m\n\u001b[32m   1890\u001b[39m \u001b[38;5;28;01massert\u001b[39;00m \u001b[38;5;28mself\u001b[39m.handles \u001b[38;5;129;01mis\u001b[39;00m \u001b[38;5;129;01mnot\u001b[39;00m \u001b[38;5;28;01mNone\u001b[39;00m\n\u001b[32m   1891\u001b[39m f = \u001b[38;5;28mself\u001b[39m.handles.handle\n",
      "\u001b[36mFile \u001b[39m\u001b[32mc:\\Users\\hp\\AppData\\Local\\Programs\\Python\\Python311\\Lib\\site-packages\\pandas\\io\\common.py:873\u001b[39m, in \u001b[36mget_handle\u001b[39m\u001b[34m(path_or_buf, mode, encoding, compression, memory_map, is_text, errors, storage_options)\u001b[39m\n\u001b[32m    868\u001b[39m \u001b[38;5;28;01melif\u001b[39;00m \u001b[38;5;28misinstance\u001b[39m(handle, \u001b[38;5;28mstr\u001b[39m):\n\u001b[32m    869\u001b[39m     \u001b[38;5;66;03m# Check whether the filename is to be opened in binary mode.\u001b[39;00m\n\u001b[32m    870\u001b[39m     \u001b[38;5;66;03m# Binary mode does not support 'encoding' and 'newline'.\u001b[39;00m\n\u001b[32m    871\u001b[39m     \u001b[38;5;28;01mif\u001b[39;00m ioargs.encoding \u001b[38;5;129;01mand\u001b[39;00m \u001b[33m\"\u001b[39m\u001b[33mb\u001b[39m\u001b[33m\"\u001b[39m \u001b[38;5;129;01mnot\u001b[39;00m \u001b[38;5;129;01min\u001b[39;00m ioargs.mode:\n\u001b[32m    872\u001b[39m         \u001b[38;5;66;03m# Encoding\u001b[39;00m\n\u001b[32m--> \u001b[39m\u001b[32m873\u001b[39m         handle = \u001b[38;5;28mopen\u001b[39m(\n\u001b[32m    874\u001b[39m             handle,\n\u001b[32m    875\u001b[39m             ioargs.mode,\n\u001b[32m    876\u001b[39m             encoding=ioargs.encoding,\n\u001b[32m    877\u001b[39m             errors=errors,\n\u001b[32m    878\u001b[39m             newline=\u001b[33m\"\u001b[39m\u001b[33m\"\u001b[39m,\n\u001b[32m    879\u001b[39m         )\n\u001b[32m    880\u001b[39m     \u001b[38;5;28;01melse\u001b[39;00m:\n\u001b[32m    881\u001b[39m         \u001b[38;5;66;03m# Binary mode\u001b[39;00m\n\u001b[32m    882\u001b[39m         handle = \u001b[38;5;28mopen\u001b[39m(handle, ioargs.mode)\n",
      "\u001b[31mFileNotFoundError\u001b[39m: [Errno 2] No such file or directory: 'C:\\\\Users\\\\hp\\\\OneDrive\\\\Desktop\\\\Customer Experience Analytics for Fintech Apps\\\\fintech-customer-analytics\\\\notebook\\\\data\\\\bank_reviews_with_sentiment.csv'"
     ]
    }
   ],
   "source": [
    "# Thematic Analysis\n",
    "from collections import Counter\n",
    "import re\n",
    "import nltk\n",
    "nltk.download('stopwords')\n",
    "from nltk.corpus import stopwords\n",
    "\n",
    "df = pd.read_csv('C:\\\\Users\\\\hp\\\\OneDrive\\\\Desktop\\\\Customer Experience Analytics for Fintech Apps\\\\fintech-customer-analytics\\\\notebook\\\\data\\\\bank_reviews_with_sentiment.csv')\n",
    "stop_words = set(stopwords.words('english'))\n",
    "words = ' '.join(df['review']).lower()\n",
    "words = re.findall(r'\\w+', words)\n",
    "words = [word for word in words if word not in stop_words]\n",
    "common_themes = Counter(words).most_common(10)\n",
    "print(\"Top 10 Themes (Common Words) Across All Banks:\", common_themes)\n",
    "\n",
    "for bank in df['bank'].unique():\n",
    "    bank_words = ' '.join(df[df['bank'] == bank]['review']).lower()\n",
    "    bank_words = re.findall(r'\\w+', bank_words)\n",
    "    bank_words = [word for word in bank_words if word not in stop_words]\n",
    "    bank_themes = Counter(bank_words).most_common(5)\n",
    "    print(f\"\\nTop 5 Themes for {bank}:\", bank_themes)"
   ]
  }
 ],
 "metadata": {
  "kernelspec": {
   "display_name": "Python 3",
   "language": "python",
   "name": "python3"
  },
  "language_info": {
   "codemirror_mode": {
    "name": "ipython",
    "version": 3
   },
   "file_extension": ".py",
   "mimetype": "text/x-python",
   "name": "python",
   "nbconvert_exporter": "python",
   "pygments_lexer": "ipython3",
   "version": "3.11.1"
  }
 },
 "nbformat": 4,
 "nbformat_minor": 5
}
